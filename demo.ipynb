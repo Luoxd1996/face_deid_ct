{
 "cells": [
  {
   "cell_type": "code",
   "execution_count": 1,
   "id": "99ef47fe",
   "metadata": {},
   "outputs": [
    {
     "data": {
      "application/vnd.jupyter.widget-view+json": {
       "model_id": "e60e35f2b6c848d1b65b57705ced9c6f",
       "version_major": 2,
       "version_minor": 0
      },
      "text/plain": [
       "List of studies:   0%|          | 0/2 [00:00<?, ?it/s]"
      ]
     },
     "metadata": {},
     "output_type": "display_data"
    },
    {
     "data": {
      "application/vnd.jupyter.widget-view+json": {
       "model_id": "",
       "version_major": 2,
       "version_minor": 0
      },
      "text/plain": [
       "Processing DICOM Files:   0%|          | 0/8 [00:00<?, ?it/s]"
      ]
     },
     "metadata": {},
     "output_type": "display_data"
    },
    {
     "name": "stdout",
     "output_type": "stream",
     "text": [
      "Total elapsed time: 6.181133985519409 seconds\n"
     ]
    },
    {
     "data": {
      "application/vnd.jupyter.widget-view+json": {
       "model_id": "",
       "version_major": 2,
       "version_minor": 0
      },
      "text/plain": [
       "Processing DICOM Files:   0%|          | 0/8 [00:00<?, ?it/s]"
      ]
     },
     "metadata": {},
     "output_type": "display_data"
    },
    {
     "name": "stdout",
     "output_type": "stream",
     "text": [
      "Total elapsed time: 11.992953777313232 seconds\n"
     ]
    }
   ],
   "source": [
    "from face_deid_ct import drown_volume\n",
    "\n",
    "path_to_dicom_files = \"/mnt/d/exames\"\n",
    "\n",
    "output_path = \"/mnt/d/exames_new\"\n",
    "\n",
    "drown_volume(path_to_dicom_files, output_path, replacer='face')"
   ]
  },
  {
   "cell_type": "code",
   "execution_count": null,
   "id": "b232f1de",
   "metadata": {},
   "outputs": [],
   "source": []
  }
 ],
 "metadata": {
  "kernelspec": {
   "display_name": "Python 3 (ipykernel)",
   "language": "python",
   "name": "python3"
  },
  "language_info": {
   "codemirror_mode": {
    "name": "ipython",
    "version": 3
   },
   "file_extension": ".py",
   "mimetype": "text/x-python",
   "name": "python",
   "nbconvert_exporter": "python",
   "pygments_lexer": "ipython3",
   "version": "3.9.13"
  }
 },
 "nbformat": 4,
 "nbformat_minor": 5
}
